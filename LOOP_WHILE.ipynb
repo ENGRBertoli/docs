{
  "nbformat": 4,
  "nbformat_minor": 0,
  "metadata": {
    "colab": {
      "provenance": [],
      "authorship_tag": "ABX9TyP/S+NGXfCwEi1z6BuvV8GJ",
      "include_colab_link": true
    },
    "kernelspec": {
      "name": "python3",
      "display_name": "Python 3"
    },
    "language_info": {
      "name": "python"
    }
  },
  "cells": [
    {
      "cell_type": "markdown",
      "metadata": {
        "id": "view-in-github",
        "colab_type": "text"
      },
      "source": [
        "<a href=\"https://colab.research.google.com/github/ENGRBertoli/docs/blob/main/LOOP_WHILE.ipynb\" target=\"_parent\"><img src=\"https://colab.research.google.com/assets/colab-badge.svg\" alt=\"Open In Colab\"/></a>"
      ]
    },
    {
      "cell_type": "markdown",
      "source": [
        "Programa que utilize estrutura de repetição while para\n",
        "perguntar ao usuário se deseja ou não realizar a soma de 2\n",
        "variáveis;"
      ],
      "metadata": {
        "id": "kzTdiE42_5Ov"
      }
    },
    {
      "cell_type": "code",
      "execution_count": null,
      "metadata": {
        "id": "aJRPdKPk_2EQ"
      },
      "outputs": [],
      "source": [
        "while True:\n",
        "  #pergunta ao usuário se deseja realizar a soma de duas variáveis\n",
        "  resposta = input(\"Deseja realizar a soma de 2 variáveis? (S/N): ) \").strip().upper()\n",
        "\n",
        "#Se a resposta for \"S\", realiza a soma\n",
        "  if resposta == 'S':\n",
        "    #Solicita ao usuário que insira os valores das variáveis\n",
        "    val1 = float(input(\"Digite o valor da primeira variável: \"))\n",
        "    val2 = float(input(\"Digite o valor da segunda variável: \"))\n",
        "\n",
        "#Realiza a soma das variáveis\n",
        "soma = val1 + val2\n",
        "\n",
        "#Exibe o resultado da soma\n",
        "print(f\"A soma de {val1} e {val2} é: {soma:.2f}\\n\")\n",
        "\n",
        "#Se a resposta fo 'N', termina o loop\n",
        "elif resposta == 'N':\n",
        "  print(\"Operação finalizada.\")\n",
        "\n",
        "#Caso o usuário insir uma resposta invalida, solicitta novamente\n",
        "else:\n",
        "  print(\"Resposta inválida! Por favor, digite 'S' para Sim ou 'N' para não.\\n\")"
      ]
    },
    {
      "cell_type": "markdown",
      "source": [],
      "metadata": {
        "id": "JVrw7Z2CBlvo"
      }
    }
  ]
}