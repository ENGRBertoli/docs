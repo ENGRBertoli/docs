{
  "nbformat": 4,
  "nbformat_minor": 0,
  "metadata": {
    "colab": {
      "provenance": [],
      "authorship_tag": "ABX9TyONEA2aArWufS7cRGluytOQ",
      "include_colab_link": true
    },
    "kernelspec": {
      "name": "python3",
      "display_name": "Python 3"
    },
    "language_info": {
      "name": "python"
    }
  },
  "cells": [
    {
      "cell_type": "markdown",
      "metadata": {
        "id": "view-in-github",
        "colab_type": "text"
      },
      "source": [
        "<a href=\"https://colab.research.google.com/github/ENGRBertoli/docs/blob/main/primeirosite.ipynb\" target=\"_parent\"><img src=\"https://colab.research.google.com/assets/colab-badge.svg\" alt=\"Open In Colab\"/></a>"
      ]
    },
    {
      "cell_type": "code",
      "execution_count": null,
      "metadata": {
        "id": "26mfSg6ZsgnM"
      },
      "outputs": [],
      "source": [
        "import streamlit as st\n",
        "import matplotlib.pyplot as plt\n",
        "import numpy as np\n",
        "\n",
        "# Lista para armazenar as balanças\n",
        "balancas = []\n",
        "\n",
        "def Grafico_Pizza(Rotulos, Quantias, Legenda, posExplode=0, LocLEG=\"upper left\", Larg=8, Alt=5, Titulo_Grafico='Gráfico de Pizza', Titulo_legenda='Legenda'):\n",
        "    fig, ax = plt.subplots(figsize=(Larg, Alt))\n",
        "    explode = [0.1 if i == posExplode else 0 for i in range(len(Rotulos))]\n",
        "    ax.pie(Quantias, explode=explode, labels=Legenda, autopct='%1.1f%%', shadow=True, startangle=90)\n",
        "    ax.axis('equal')  # Garantir que o gráfico seja um círculo\n",
        "    ax.set_title(Titulo_Grafico)\n",
        "    ax.legend(title=Titulo_legenda, loc=LocLEG, bbox_to_anchor=(1, 0, 0.5, 1))\n",
        "    st.pyplot(fig)\n",
        "\n",
        "def Grafico_Barra_Horizontal(Rotulos, Quantias, Largura=8, Altura=5, Titulo_Grafico='Gráfico de Barra', Titulo_x='Quantidade', Titulo_y='Modelos'):\n",
        "    fig, ax = plt.subplots(figsize=(Largura, Altura))\n",
        "    bars = ax.barh(Rotulos, Quantias, color='skyblue')\n",
        "    ax.set_ylabel(Titulo_y)\n",
        "    ax.set_xlabel(Titulo_x)\n",
        "    ax.set_title(Titulo_Grafico)\n",
        "    for bar, value in zip(bars, Quantias):\n",
        "        ax.text(bar.get_width(), bar.get_y() + bar.get_height() / 2, f'{value}', ha='left', va='center')\n",
        "    st.pyplot(fig)\n",
        "\n",
        "def main():\n",
        "    st.set_page_config(\n",
        "        page_title=\"Painel de Gestão de Balanças\",\n",
        "        page_icon=\"⚖️\",\n",
        "        layout=\"wide\",\n",
        "        initial_sidebar_state=\"expanded\"\n",
        "    )\n",
        "\n",
        "    st.title(\"Painel de Gestão de Fabricação de Balanças\")\n",
        "\n",
        "    # Menu lateral\n",
        "    menu = st.sidebar.radio(\"Escolha uma opção:\", [\"Adicionar Balança\", \"Listar Balanças\", \"Gráficos\"])\n",
        "\n",
        "    if menu == \"Adicionar Balança\":\n",
        "        st.subheader(\"Adicionar uma nova balança\")\n",
        "        modelo = st.text_input(\"Modelo da balança:\")\n",
        "        quantidade = st.number_input(\"Quantidade:\", min_value=0, step=1)\n",
        "        if st.button(\"Adicionar\"):\n",
        "            nova_balanca = {\"modelo\": modelo, \"quantidade\": quantidade, \"status\": \"Em produção\"}\n",
        "            balancas.append(nova_balanca)\n",
        "            st.success(f\"Balança '{modelo}' adicionada com quantidade {quantidade}.\")\n",
        "\n",
        "    elif menu == \"Listar Balanças\":\n",
        "        st.subheader(\"Balanças cadastradas\")\n",
        "        if not balancas:\n",
        "            st.warning(\"Nenhuma balança cadastrada.\")\n",
        "        else:\n",
        "            for balanca in balancas:\n",
        "                st.write(f\"**Modelo:** {balanca['modelo']} | **Quantidade:** {balanca['quantidade']} | **Status:** {balanca['status']}\")\n",
        "\n",
        "    elif menu == \"Gráficos\":\n",
        "        st.subheader(\"Gráficos das balanças\")\n",
        "        if not balancas:\n",
        "            st.warning(\"Nenhuma balança cadastrada para exibir nos gráficos.\")\n",
        "        else:\n",
        "            modelos = [b[\"modelo\"] for b in balancas]\n",
        "            quantidades = [b[\"quantidade\"] for b in balancas]\n",
        "\n",
        "            col1, col2 = st.columns(2)\n",
        "            with col1:\n",
        "                Grafico_Pizza(modelos, quantidades, modelos, 0, \"upper left\", 8, 5, Titulo_Grafico=\"Distribuição de Balanças\", Titulo_legenda=\"Modelos\")\n",
        "            with col2:\n",
        "                Grafico_Barra_Horizontal(modelos, quantidades, Largura=8, Altura=5, Titulo_Grafico=\"Estoque de Balanças\", Titulo_x=\"Quantidade\", Titulo_y=\"Modelos\")\n",
        "\n",
        "if __name__ == \"__main__\":\n",
        "    main()"
      ]
    }
  ]
}