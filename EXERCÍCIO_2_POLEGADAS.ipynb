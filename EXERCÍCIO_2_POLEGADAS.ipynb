{
  "nbformat": 4,
  "nbformat_minor": 0,
  "metadata": {
    "colab": {
      "provenance": [],
      "authorship_tag": "ABX9TyMCKXggBNKllaI4xyvr6VW8",
      "include_colab_link": true
    },
    "kernelspec": {
      "name": "python3",
      "display_name": "Python 3"
    },
    "language_info": {
      "name": "python"
    }
  },
  "cells": [
    {
      "cell_type": "markdown",
      "metadata": {
        "id": "view-in-github",
        "colab_type": "text"
      },
      "source": [
        "<a href=\"https://colab.research.google.com/github/ENGRBertoli/docs/blob/main/EXERC%C3%8DCIO_2_POLEGADAS.ipynb\" target=\"_parent\"><img src=\"https://colab.research.google.com/assets/colab-badge.svg\" alt=\"Open In Colab\"/></a>"
      ]
    },
    {
      "cell_type": "markdown",
      "source": [
        "EXERCÍCIO 2 - POLEGADAS"
      ],
      "metadata": {
        "id": "Z-Yj2MxpZBON"
      }
    },
    {
      "cell_type": "code",
      "execution_count": 3,
      "metadata": {
        "colab": {
          "base_uri": "https://localhost:8080/"
        },
        "id": "hN4WW9NgYTTO",
        "outputId": "451918fa-1e0c-4c43-8056-8e8cd52b3e25"
      },
      "outputs": [
        {
          "output_type": "stream",
          "name": "stdout",
          "text": [
            "Digite a medida em polegadas: 1\n",
            "1.0 polegadas é igual a 25.40 milimetros.\n"
          ]
        }
      ],
      "source": [
        "# Solicita ao usuário que insira um medida em polegadas\n",
        "polegadas = float(input(\"Digite a medida em polegadas: \"))\n",
        "\n",
        "#Converta a medida para milímetros (1 polegada = 25.4 mm)\n",
        "milimetros = polegadas * 25.4\n",
        "\n",
        "#Exibe o resultado\n",
        "print(f\"{polegadas} polegadas é igual a {milimetros:.2f} milimetros.\")"
      ]
    },
    {
      "cell_type": "markdown",
      "source": [
        "OUTRO MODO"
      ],
      "metadata": {
        "id": "9cDrR39IbQdP"
      }
    },
    {
      "cell_type": "code",
      "source": [
        "from math import pi\n",
        "P = float(input(\"Digite o valor em polegada \"))\n",
        "mm = P*25.4\n",
        "print(\"O valor em polegada para milímetro é de \", mm)"
      ],
      "metadata": {
        "colab": {
          "base_uri": "https://localhost:8080/"
        },
        "id": "jOT5ltqIbT3F",
        "outputId": "46b6dcab-5012-427d-885a-0fc474f1a8b6"
      },
      "execution_count": 5,
      "outputs": [
        {
          "output_type": "stream",
          "name": "stdout",
          "text": [
            "Digite o valor em polegada 8\n",
            "O valor em polegada para milímetro é de  203.2\n"
          ]
        }
      ]
    },
    {
      "cell_type": "markdown",
      "source": [
        "MILÍMETROS PARA POLEGADA"
      ],
      "metadata": {
        "id": "k6018C91cDa0"
      }
    },
    {
      "cell_type": "code",
      "source": [
        "mm = float(input(\"Digite o valor em milímetros: \"))\n",
        "P = mm/25.4\n",
        "print(\"O valor em milímetros para polegada é de: \", P)"
      ],
      "metadata": {
        "colab": {
          "base_uri": "https://localhost:8080/"
        },
        "id": "48Ty5xrPcHsz",
        "outputId": "b8c1a977-f56e-444e-8f5e-f80277941263"
      },
      "execution_count": 9,
      "outputs": [
        {
          "output_type": "stream",
          "name": "stdout",
          "text": [
            "Digite o valor em milímetros: 50.8\n",
            "O valor em milímetros para polegada é de:  2.0\n"
          ]
        }
      ]
    },
    {
      "cell_type": "markdown",
      "source": [
        "EXERCÍCIOS PARA PRATICAR"
      ],
      "metadata": {
        "id": "MlBvttZtcz7L"
      }
    },
    {
      "cell_type": "markdown",
      "source": [
        "Criar a narrativa, pseudocódigo, fluxograma e código para um programa que receba o raio (r) de uma esfera, e\n",
        "em seguida calcule e exibir o seu volume (v) desta esfera."
      ],
      "metadata": {
        "id": "d-7SFcCRdnTx"
      }
    },
    {
      "cell_type": "code",
      "source": [
        "#Colocar o valor do RAIO\n",
        "diametro = float(input(\"Digite o diâmetro da esfera \"))\n",
        "\n",
        "raio = diametro / 2\n",
        "\n",
        "#Calacular volume de esfera\n",
        "volume = ((4* pi * raio**3) / 3)\n",
        "\n",
        "#Mostrar resultado\n",
        "print(f\"O volume da esfera é {volume: .2f}\")\n",
        "\n"
      ],
      "metadata": {
        "colab": {
          "base_uri": "https://localhost:8080/"
        },
        "id": "3SsIkCGAg9kN",
        "outputId": "6dec361d-8cd1-4f57-bf35-23000679345e"
      },
      "execution_count": 47,
      "outputs": [
        {
          "output_type": "stream",
          "name": "stdout",
          "text": [
            "Digite o diâmetro da esfera 10\n",
            "O volume da esfera é  523.60\n"
          ]
        }
      ]
    },
    {
      "cell_type": "markdown",
      "source": [
        "Criar a narrativa, pseudocódigo, fluxograma e código para um programa que receba um ângulo (g) em graus, e converta este valor para radianos (r)."
      ],
      "metadata": {
        "id": "IgjG_jVMdu9c"
      }
    },
    {
      "cell_type": "code",
      "source": [
        "import math\n",
        "\n",
        "def converter_graus_para_radianos(graus):\n",
        "    \"\"\"Converte um ângulo em graus para radianos.\"\"\"\n",
        "    radianos = graus * (math.pi / 180)\n",
        "    return radianos\n",
        "\n",
        "def main():\n",
        "    #Recebe o ângulo em graus do usuário\n",
        "    try:\n",
        "        graus = float(input(\"Digite o ângulo em graus: \"))\n",
        "\n",
        "        #Converte para radianos\n",
        "        radianos = converter_graus_para_radianos(graus)\n",
        "\n",
        "        #Exibe o resultado\n",
        "        print(f\"O ângulo de {graus} graus é equivalente a {radianos:.4f} radianos.\")\n",
        "\n",
        "    except ValueError:\n",
        "        print(\"Por favor, insira um número válido.\")\n",
        "\n",
        "if __name__ == \"__main__\":\n",
        "    main()"
      ],
      "metadata": {
        "colab": {
          "base_uri": "https://localhost:8080/"
        },
        "id": "2Npz7Lrae7Tc",
        "outputId": "c27cd5cd-5f81-484f-ac9a-c55561ef51bd"
      },
      "execution_count": 24,
      "outputs": [
        {
          "output_type": "stream",
          "name": "stdout",
          "text": [
            "Digite o ângulo em graus: 5\n",
            "O ângulo de 5.0 graus é equivalente a 0.0873 radianos.\n"
          ]
        }
      ]
    },
    {
      "cell_type": "markdown",
      "source": [
        " Criar a narrativa, pseudocódigo, fluxograma e código para um programa que receba o valor de um ângulo em radianos, e converta este valor para graus."
      ],
      "metadata": {
        "id": "7cItfil4fjF-"
      }
    },
    {
      "cell_type": "code",
      "source": [
        "import math\n",
        "\n",
        "def converter_radianos_para_graus(radianos):\n",
        "    \"\"\"Converte um ângulo em radianos para graus.\"\"\"\n",
        "    graus = radianos * (180 / math.pi)\n",
        "    return graus\n",
        "\n",
        "def main():\n",
        "    #Recebe o ângulo em radianos do usuário\n",
        "    try:\n",
        "        radianos = float(input(\"Digite o ângulo em radianos: \"))\n",
        "\n",
        "        #Converte para graus\n",
        "        graus = converter_radianos_para_graus(radianos)\n",
        "\n",
        "        #Exibe o resultado\n",
        "        print(f\"O ângulo de {radianos} radianos é equivalente a {graus:.2f} graus.\")\n",
        "\n",
        "    except ValueError:\n",
        "        print(\"Por favor, insira um número válido.\")\n",
        "\n",
        "if __name__ == \"__main__\":\n",
        "    main()"
      ],
      "metadata": {
        "colab": {
          "base_uri": "https://localhost:8080/"
        },
        "id": "qK_kwEl0fqPE",
        "outputId": "56b0ddab-3afa-4cd9-fa50-877776ef2fcc"
      },
      "execution_count": 27,
      "outputs": [
        {
          "output_type": "stream",
          "name": "stdout",
          "text": [
            "Digite o ângulo em radianos: 8\n",
            "O ângulo de 8.0 radianos é equivalente a 458.37 graus.\n"
          ]
        }
      ]
    },
    {
      "cell_type": "markdown",
      "source": [
        "Criar a narrativa, pseudocódigo, fluxograma e código para um programa que receba ângulo em radianos, e converta este valor para grados. Lembrar que 400 grados equivalem a 2*pi radianos."
      ],
      "metadata": {
        "id": "FySvfG4uf-I_"
      }
    },
    {
      "cell_type": "code",
      "source": [
        "import math\n",
        "\n",
        "def converter_radianos_para_grados(radianos):\n",
        "    \"\"\"Converte um ângulo em radianos para graus (escala de 400 graus para 2*pi radianos).\"\"\"\n",
        "    graus = radianos * (200 / math.pi)\n",
        "    return graus\n",
        "\n",
        "def main():\n",
        "    #Recebe o ângulo em radianos do usuário\n",
        "    try:\n",
        "        radianos = float(input(\"Digite o ângulo em radianos: \"))\n",
        "\n",
        "        #Converte para graus\n",
        "        graus = converter_radianos_para_grados(radianos)\n",
        "\n",
        "        #Mostra o resultado\n",
        "        print(f\"O ângulo de {radianos} radianos é equivalente a {graus:.2f} graus (escala de 400 graus).\")\n",
        "\n",
        "    except ValueError:\n",
        "        print(\"Por favor, insira um número válido.\")\n",
        "\n",
        "if __name__ == \"__main__\":\n",
        "    main()\n"
      ],
      "metadata": {
        "colab": {
          "base_uri": "https://localhost:8080/"
        },
        "id": "l3LsKWwcgDK3",
        "outputId": "17eab1e7-c6c0-4c38-8e05-467a75c2c231"
      },
      "execution_count": 28,
      "outputs": [
        {
          "output_type": "stream",
          "name": "stdout",
          "text": [
            "Digite o ângulo em radianos: 87\n",
            "O ângulo de 87.0 radianos é equivalente a 5538.59 graus (escala de 400 graus).\n"
          ]
        }
      ]
    }
  ]
}