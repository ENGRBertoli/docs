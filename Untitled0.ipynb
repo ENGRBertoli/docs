{
  "nbformat": 4,
  "nbformat_minor": 0,
  "metadata": {
    "colab": {
      "provenance": [],
      "authorship_tag": "ABX9TyNPERMW0eIuFaSsMkrJ4xo5",
      "include_colab_link": true
    },
    "kernelspec": {
      "name": "python3",
      "display_name": "Python 3"
    },
    "language_info": {
      "name": "python"
    }
  },
  "cells": [
    {
      "cell_type": "markdown",
      "metadata": {
        "id": "view-in-github",
        "colab_type": "text"
      },
      "source": [
        "<a href=\"https://colab.research.google.com/github/ENGRBertoli/docs/blob/main/Untitled0.ipynb\" target=\"_parent\"><img src=\"https://colab.research.google.com/assets/colab-badge.svg\" alt=\"Open In Colab\"/></a>"
      ]
    },
    {
      "cell_type": "markdown",
      "source": [
        "EXERCÍCIO 2 - POLEGADAS"
      ],
      "metadata": {
        "id": "Z-Yj2MxpZBON"
      }
    },
    {
      "cell_type": "code",
      "execution_count": 2,
      "metadata": {
        "colab": {
          "base_uri": "https://localhost:8080/"
        },
        "id": "hN4WW9NgYTTO",
        "outputId": "e65cd58c-3cfe-4c8f-f00f-5515ce9b9dcf"
      },
      "outputs": [
        {
          "output_type": "stream",
          "name": "stdout",
          "text": [
            "Digite a medida em polegadas: 6\n",
            "6.0 polegadas é igual a 152.40 milimetros.\n"
          ]
        }
      ],
      "source": [
        "# SOlicita ao usuário que insira um medida em polegadas\n",
        "polegadas = float(input(\"Digite a medida em polegadas: \"))\n",
        "\n",
        "#Converta a medida para milímetros (1 polegada = 25.4 mm)\n",
        "milimetros = polegadas * 25.4\n",
        "\n",
        "#Exibe o resultado\n",
        "print(f\"{polegadas} polegadas é igual a {milimetros:.2f} milimetros.\")"
      ]
    }
  ]
}