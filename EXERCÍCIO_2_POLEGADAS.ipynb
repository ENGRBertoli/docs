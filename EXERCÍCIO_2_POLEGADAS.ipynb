{
  "nbformat": 4,
  "nbformat_minor": 0,
  "metadata": {
    "colab": {
      "provenance": [],
      "authorship_tag": "ABX9TyO1Vb96m2n/D/VrmWlxNtn1",
      "include_colab_link": true
    },
    "kernelspec": {
      "name": "python3",
      "display_name": "Python 3"
    },
    "language_info": {
      "name": "python"
    }
  },
  "cells": [
    {
      "cell_type": "markdown",
      "metadata": {
        "id": "view-in-github",
        "colab_type": "text"
      },
      "source": [
        "<a href=\"https://colab.research.google.com/github/ENGRBertoli/docs/blob/main/EXERC%C3%8DCIO_2_POLEGADAS.ipynb\" target=\"_parent\"><img src=\"https://colab.research.google.com/assets/colab-badge.svg\" alt=\"Open In Colab\"/></a>"
      ]
    },
    {
      "cell_type": "markdown",
      "source": [
        "EXERCÍCIO 2 - POLEGADAS"
      ],
      "metadata": {
        "id": "Z-Yj2MxpZBON"
      }
    },
    {
      "cell_type": "code",
      "execution_count": 3,
      "metadata": {
        "colab": {
          "base_uri": "https://localhost:8080/"
        },
        "id": "hN4WW9NgYTTO",
        "outputId": "451918fa-1e0c-4c43-8056-8e8cd52b3e25"
      },
      "outputs": [
        {
          "output_type": "stream",
          "name": "stdout",
          "text": [
            "Digite a medida em polegadas: 1\n",
            "1.0 polegadas é igual a 25.40 milimetros.\n"
          ]
        }
      ],
      "source": [
        "# Solicita ao usuário que insira um medida em polegadas\n",
        "polegadas = float(input(\"Digite a medida em polegadas: \"))\n",
        "\n",
        "#Converta a medida para milímetros (1 polegada = 25.4 mm)\n",
        "milimetros = polegadas * 25.4\n",
        "\n",
        "#Exibe o resultado\n",
        "print(f\"{polegadas} polegadas é igual a {milimetros:.2f} milimetros.\")"
      ]
    },
    {
      "cell_type": "markdown",
      "source": [
        "OUTRO MODO"
      ],
      "metadata": {
        "id": "9cDrR39IbQdP"
      }
    },
    {
      "cell_type": "code",
      "source": [
        "from math import pi\n",
        "P = float(input(\"Digite o valor em polegada \"))\n",
        "mm = P*25.4\n",
        "print(\"O valor em polegada para milímetro é de \", mm)"
      ],
      "metadata": {
        "colab": {
          "base_uri": "https://localhost:8080/"
        },
        "id": "jOT5ltqIbT3F",
        "outputId": "46b6dcab-5012-427d-885a-0fc474f1a8b6"
      },
      "execution_count": 5,
      "outputs": [
        {
          "output_type": "stream",
          "name": "stdout",
          "text": [
            "Digite o valor em polegada 8\n",
            "O valor em polegada para milímetro é de  203.2\n"
          ]
        }
      ]
    },
    {
      "cell_type": "markdown",
      "source": [
        "MILÍMETROS PARA POLEGADA"
      ],
      "metadata": {
        "id": "k6018C91cDa0"
      }
    },
    {
      "cell_type": "code",
      "source": [
        "mm = float(input(\"Digite o valor em milímetros: \"))\n",
        "P = mm/25.4\n",
        "print(\"O valor em milímetros para polegada é de: \", P)"
      ],
      "metadata": {
        "colab": {
          "base_uri": "https://localhost:8080/"
        },
        "id": "48Ty5xrPcHsz",
        "outputId": "b8c1a977-f56e-444e-8f5e-f80277941263"
      },
      "execution_count": 9,
      "outputs": [
        {
          "output_type": "stream",
          "name": "stdout",
          "text": [
            "Digite o valor em milímetros: 50.8\n",
            "O valor em milímetros para polegada é de:  2.0\n"
          ]
        }
      ]
    },
    {
      "cell_type": "markdown",
      "source": [
        "#EXERCÍCIOS PARA PRATICAR"
      ],
      "metadata": {
        "id": "MlBvttZtcz7L"
      }
    },
    {
      "cell_type": "markdown",
      "source": [
        "Criar a narrativa, pseudocódigo, fluxograma e código para um programa que receba o raio (r) de uma esfera, e em seguida calcule e exibir o seu volume (v) desta esfera."
      ],
      "metadata": {
        "id": "d-7SFcCRdnTx"
      }
    },
    {
      "cell_type": "code",
      "source": [
        "#Colocar o valor do diâmetro\n",
        "raio = float(input(\"Digite o raio da esfera \"))\n",
        "\n",
        "#Calacular volume de esfera\n",
        "volume = ((4* pi * raio**3) / 3)\n",
        "\n",
        "#Mostrar resultado\n",
        "print(f\"O volume da esfera é {volume: .2f}\")"
      ],
      "metadata": {
        "colab": {
          "base_uri": "https://localhost:8080/"
        },
        "id": "3SsIkCGAg9kN",
        "outputId": "4b271770-12cc-4155-f862-a508a02a9c98"
      },
      "execution_count": 48,
      "outputs": [
        {
          "output_type": "stream",
          "name": "stdout",
          "text": [
            "Digite o raio da esfera 5\n",
            "O volume da esfera é  523.60\n"
          ]
        }
      ]
    },
    {
      "cell_type": "markdown",
      "source": [
        "Criar a narrativa, pseudocódigo, fluxograma e código para um programa que receba um ângulo (g) em graus, e converta este valor para radianos (r)."
      ],
      "metadata": {
        "id": "IgjG_jVMdu9c"
      }
    },
    {
      "cell_type": "code",
      "source": [
        "#Colocar o valor em graus\n",
        "graus = float(input(\"Digite o em graus \"))\n",
        "\n",
        "#Calacular volume de esfera\n",
        "radiano = ((graus * pi) / 180)\n",
        "\n",
        "#Mostrar resultado\n",
        "print(f\"O valor em radianos é {radiano: .2f}\")"
      ],
      "metadata": {
        "colab": {
          "base_uri": "https://localhost:8080/"
        },
        "id": "SgzDEgogln6V",
        "outputId": "156f59c5-35d7-43c5-c59b-9a57eceb9666"
      },
      "execution_count": 50,
      "outputs": [
        {
          "output_type": "stream",
          "name": "stdout",
          "text": [
            "Digite o em graus 90\n",
            "O valor em radianos é  1.57\n"
          ]
        }
      ]
    },
    {
      "cell_type": "markdown",
      "source": [
        " Criar a narrativa, pseudocódigo, fluxograma e código para um programa que receba o valor de um ângulo em radianos, e converta este valor para graus."
      ],
      "metadata": {
        "id": "7cItfil4fjF-"
      }
    },
    {
      "cell_type": "code",
      "source": [
        "#Colocar o valor em graus\n",
        "radiano = float(input(\"Digite o em radiano \"))\n",
        "\n",
        "#Calacular volume de esfera\n",
        "grau = ((radiano * 180) / pi)\n",
        "\n",
        "#Mostrar resultado\n",
        "print(f\"O valor em graus é {grau: .2f}\")"
      ],
      "metadata": {
        "colab": {
          "base_uri": "https://localhost:8080/"
        },
        "id": "XwmXYzG5mOGG",
        "outputId": "dcd2b83e-c1e5-49c0-857e-589747f90535"
      },
      "execution_count": 52,
      "outputs": [
        {
          "output_type": "stream",
          "name": "stdout",
          "text": [
            "Digite o em radiano 10\n",
            "O valor em graus é  572.96\n"
          ]
        }
      ]
    },
    {
      "cell_type": "markdown",
      "source": [
        "Criar a narrativa, pseudocódigo, fluxograma e código para um programa que receba ângulo em radianos, e converta este valor para grados. Lembrar que 400 grados equivalem a 2*pi radianos."
      ],
      "metadata": {
        "id": "FySvfG4uf-I_"
      }
    },
    {
      "cell_type": "code",
      "source": [
        "#Colocar o valor em radianos\n",
        "radiano = float(input(\"Digite o em radiano \"))\n",
        "\n",
        "#Calacular volume de esfera\n",
        "rad = ((radiano * 200) / pi)\n",
        "\n",
        "#Mostrar resultado\n",
        "print(f\"O valor em grados é {rad: .2f}\")"
      ],
      "metadata": {
        "colab": {
          "base_uri": "https://localhost:8080/"
        },
        "id": "SrnzH-bfmom0",
        "outputId": "2634bdcc-7377-42f5-9a75-d23c8a613e79"
      },
      "execution_count": 54,
      "outputs": [
        {
          "output_type": "stream",
          "name": "stdout",
          "text": [
            "Digite o em radiano 6.28\n",
            "O valor em grados é  399.80\n"
          ]
        }
      ]
    }
  ]
}