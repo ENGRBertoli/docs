{
  "nbformat": 4,
  "nbformat_minor": 0,
  "metadata": {
    "colab": {
      "provenance": [],
      "authorship_tag": "ABX9TyPQ82p/15qTljQoC4IXoJOd",
      "include_colab_link": true
    },
    "kernelspec": {
      "name": "python3",
      "display_name": "Python 3"
    },
    "language_info": {
      "name": "python"
    }
  },
  "cells": [
    {
      "cell_type": "markdown",
      "metadata": {
        "id": "view-in-github",
        "colab_type": "text"
      },
      "source": [
        "<a href=\"https://colab.research.google.com/github/ENGRBertoli/docs/blob/main/AULA_12_11_2024.ipynb\" target=\"_parent\"><img src=\"https://colab.research.google.com/assets/colab-badge.svg\" alt=\"Open In Colab\"/></a>"
      ]
    },
    {
      "cell_type": "code",
      "execution_count": 15,
      "metadata": {
        "id": "T9SLy4wshyCm"
      },
      "outputs": [],
      "source": [
        "from MinhasFuncoes import *\n",
        "# No python o símbolo * quando usado na importação\n",
        "# ou biblioteca siguinifica TUDO"
      ]
    },
    {
      "cell_type": "code",
      "source": [
        "b = input(\"Digite valor da base do triângulo: \")\n",
        "b = float(b)\n",
        "h = input(\"Digite valor da altura do triângulo: \")\n",
        "h = float(h)\n",
        "# area = b * h / 2\n",
        "# print(\"A área do triângulo é: \", area)\n",
        "area = AreaTriangulo (b, h)\n",
        "print(\"A área do triângulo é: \", area)\n"
      ],
      "metadata": {
        "colab": {
          "base_uri": "https://localhost:8080/"
        },
        "id": "-sp34AcXjBuo",
        "outputId": "0e971f8f-d07f-4d92-ed10-64f0437b7baf"
      },
      "execution_count": 6,
      "outputs": [
        {
          "output_type": "stream",
          "name": "stdout",
          "text": [
            "Digite valor da base do triângulo: 5\n",
            "Digite valor da altura do triângulo: 6\n",
            "A área do triângulo é:  15.0\n"
          ]
        }
      ]
    },
    {
      "cell_type": "code",
      "source": [
        "b = input(\"Digite valor da base do triângulo: \")\n",
        "b = float(b)\n",
        "if b <= 0:\n",
        "  (MSG2)\n",
        "\n",
        "h = input(\"Digite valor da altura do triângulo: \")\n",
        "h = float(h)\n",
        "if h <= 0:\n",
        "  (MSG2)\n",
        "\n",
        "# area = b * h / 2\n",
        "# print(\"A área do triângulo é: \", area)\n",
        "area = AreaTriangulo (b, h)\n",
        "print(\"A área do triângulo é: \", area)"
      ],
      "metadata": {
        "colab": {
          "base_uri": "https://localhost:8080/",
          "height": 228
        },
        "id": "UGxBT_jClj1c",
        "outputId": "a836fc4f-c0c3-41e8-e3b2-f661177a5f46"
      },
      "execution_count": 16,
      "outputs": [
        {
          "name": "stdout",
          "output_type": "stream",
          "text": [
            "Digite valor da base do triângulo: -5\n"
          ]
        },
        {
          "output_type": "error",
          "ename": "NameError",
          "evalue": "name 'MSG2' is not defined",
          "traceback": [
            "\u001b[0;31m---------------------------------------------------------------------------\u001b[0m",
            "\u001b[0;31mNameError\u001b[0m                                 Traceback (most recent call last)",
            "\u001b[0;32m<ipython-input-16-f0c3135e846c>\u001b[0m in \u001b[0;36m<cell line: 3>\u001b[0;34m()\u001b[0m\n\u001b[1;32m      2\u001b[0m \u001b[0mb\u001b[0m \u001b[0;34m=\u001b[0m \u001b[0mfloat\u001b[0m\u001b[0;34m(\u001b[0m\u001b[0mb\u001b[0m\u001b[0;34m)\u001b[0m\u001b[0;34m\u001b[0m\u001b[0;34m\u001b[0m\u001b[0m\n\u001b[1;32m      3\u001b[0m \u001b[0;32mif\u001b[0m \u001b[0mb\u001b[0m \u001b[0;34m<=\u001b[0m \u001b[0;36m0\u001b[0m\u001b[0;34m:\u001b[0m\u001b[0;34m\u001b[0m\u001b[0;34m\u001b[0m\u001b[0m\n\u001b[0;32m----> 4\u001b[0;31m   \u001b[0;34m(\u001b[0m\u001b[0mMSG2\u001b[0m\u001b[0;34m)\u001b[0m\u001b[0;34m\u001b[0m\u001b[0;34m\u001b[0m\u001b[0m\n\u001b[0m\u001b[1;32m      5\u001b[0m \u001b[0;34m\u001b[0m\u001b[0m\n\u001b[1;32m      6\u001b[0m \u001b[0mh\u001b[0m \u001b[0;34m=\u001b[0m \u001b[0minput\u001b[0m\u001b[0;34m(\u001b[0m\u001b[0;34m\"Digite valor da altura do triângulo: \"\u001b[0m\u001b[0;34m)\u001b[0m\u001b[0;34m\u001b[0m\u001b[0;34m\u001b[0m\u001b[0m\n",
            "\u001b[0;31mNameError\u001b[0m: name 'MSG2' is not defined"
          ]
        }
      ]
    }
  ]
}