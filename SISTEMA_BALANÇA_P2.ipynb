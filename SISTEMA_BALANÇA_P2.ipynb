{
  "nbformat": 4,
  "nbformat_minor": 0,
  "metadata": {
    "colab": {
      "provenance": [],
      "authorship_tag": "ABX9TyMmUUL0qEnyLeS4VGqx1S8v",
      "include_colab_link": true
    },
    "kernelspec": {
      "name": "python3",
      "display_name": "Python 3"
    },
    "language_info": {
      "name": "python"
    }
  },
  "cells": [
    {
      "cell_type": "markdown",
      "metadata": {
        "id": "view-in-github",
        "colab_type": "text"
      },
      "source": [
        "<a href=\"https://colab.research.google.com/github/ENGRBertoli/docs/blob/main/SISTEMA_BALAN%C3%87A_P2.ipynb\" target=\"_parent\"><img src=\"https://colab.research.google.com/assets/colab-badge.svg\" alt=\"Open In Colab\"/></a>"
      ]
    },
    {
      "cell_type": "code",
      "execution_count": null,
      "metadata": {
        "colab": {
          "base_uri": "https://localhost:8080/"
        },
        "id": "g5NDAo77k4e9",
        "outputId": "f96821e0-fdc2-4c85-ebcf-bc382ca3f55a"
      },
      "outputs": [
        {
          "output_type": "stream",
          "name": "stdout",
          "text": [
            "\n",
            "Menu de Gestão de Fabricação de Balanças\n",
            "1. Adicionar Balança\n",
            "2. Listar Balanças\n",
            "3. Atualizar Status da Balança\n",
            "4. Atualizar Estoque de Balança\n",
            "5. Sair\n"
          ]
        }
      ],
      "source": [
        "balancas = []  # Lista para armazenar as balanças\n",
        "\n",
        "while True:\n",
        "    print(\"\\nMenu de Gestão de Fabricação de Balanças\")\n",
        "    print(\"1. Adicionar Balança\")\n",
        "    print(\"2. Listar Balanças\")\n",
        "    print(\"3. Atualizar Status da Balança\")\n",
        "    print(\"4. Atualizar Estoque de Balança\")\n",
        "    print(\"5. Sair\")\n",
        "    escolha = input(\"Escolha uma opção: \")\n",
        "\n",
        "    if escolha == '1':\n",
        "        modelo = input(\"Modelo da balança: \")\n",
        "        quantidade = int(input(\"Quantidade: \"))\n",
        "        status = \"Em produção\"\n",
        "        nova_balanca = {\n",
        "            \"modelo\": modelo,\n",
        "            \"quantidade\": quantidade,\n",
        "            \"status\": status\n",
        "        }\n",
        "        balancas.append(nova_balanca)  # Adiciona a nova balança à lista\n",
        "        print(f\"Balança '{modelo}' adicionada com quantidade {quantidade}.\")\n",
        "\n",
        "    elif escolha == '2':\n",
        "        if not balancas:\n",
        "            print(\"Nenhuma balança cadastrada.\")  # Mensagem se a lista estiver vazia\n",
        "        else:\n",
        "            print(\"Balanças fabricadas:\")\n",
        "            for balanca in balancas:\n",
        "                # Exibe as informações de cada balança\n",
        "                print(f\"Modelo: {balanca['modelo']}, Quantidade: {balanca['quantidade']}, Status: {balanca['status']}\")\n",
        "\n",
        "    elif escolha == '3':\n",
        "        modelo = input(\"Modelo da balança a ser atualizado: \")\n",
        "        novo_status = input(\"Novo status: \")\n",
        "        encontrado = False\n",
        "        for balanca in balancas:\n",
        "            if balanca['modelo'] == modelo:\n",
        "                balanca['status'] = novo_status  # Atualiza o status da balança encontrada\n",
        "                print(f\"Status da balança '{modelo}' atualizado para '{novo_status}'.\")\n",
        "                encontrado = True\n",
        "                break\n",
        "        if not encontrado:\n",
        "            print(f\"Balança '{modelo}' não encontrada.\")  # Mensagem se a balança não for encontrada\n",
        "\n",
        "    elif escolha == '4':\n",
        "        modelo = input(\"Modelo da balança para atualizar o estoque: \")\n",
        "        quantidade = int(input(\"Quantidade a ser adicionada ou subtraída (use negativo para subtrair): \"))\n",
        "        encontrado = False\n",
        "        for balanca in balancas:\n",
        "            if balanca['modelo'] == modelo:\n",
        "                balanca['quantidade'] += quantidade  # Atualiza a quantidade\n",
        "                if balanca['quantidade'] < 0:\n",
        "                    balanca['quantidade'] = 0  # Não permite quantidade negativa\n",
        "                print(f\"Quantidade da balança '{modelo}' atualizada para {balanca['quantidade']}.\")\n",
        "                encontrado = True\n",
        "                break\n",
        "        if not encontrado:\n",
        "            print(f\"Balança '{modelo}' não encontrada.\")  # Mensagem se a balança não for encontrada\n",
        "\n",
        "    elif escolha == '5':\n",
        "        print(\"Saindo do programa...\")  # Mensagem de saída\n",
        "        break\n",
        "\n",
        "    else:\n",
        "        print(\"Opção inválida. Tente novamente.\")  # Mensagem para entrada inválida"
      ]
    }
  ]
}