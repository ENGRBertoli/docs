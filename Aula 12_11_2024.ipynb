{
  "nbformat": 4,
  "nbformat_minor": 0,
  "metadata": {
    "colab": {
      "provenance": [],
      "authorship_tag": "ABX9TyO39gcJNAZeuqHkTvWWXQ5j",
      "include_colab_link": true
    },
    "kernelspec": {
      "name": "python3",
      "display_name": "Python 3"
    },
    "language_info": {
      "name": "python"
    }
  },
  "cells": [
    {
      "cell_type": "markdown",
      "metadata": {
        "id": "view-in-github",
        "colab_type": "text"
      },
      "source": [
        "<a href=\"https://colab.research.google.com/github/ENGRBertoli/docs/blob/main/Aula%2012_11_2024.ipynb\" target=\"_parent\"><img src=\"https://colab.research.google.com/assets/colab-badge.svg\" alt=\"Open In Colab\"/></a>"
      ]
    },
    {
      "cell_type": "code",
      "execution_count": 1,
      "metadata": {
        "id": "T9SLy4wshyCm"
      },
      "outputs": [],
      "source": [
        "from MinhasFuncoes import *\n",
        "# No python o símbolo * quando usado na importação\n",
        "# ou biblioteca siguinifica TUDO"
      ]
    },
    {
      "cell_type": "code",
      "source": [
        "b = input(\"Digite valor da base do triângulo: \")\n",
        "b = float(b)\n",
        "h = input(\"Digite valor da altura do triângulo: \")\n",
        "h = float(h)\n",
        "# area = b * h / 2\n",
        "# print(\"A área do triângulo é: \", area)\n",
        "area = AreaTriangulo (b, h)\n",
        "print(\"A área do triângulo é: \", area)\n"
      ],
      "metadata": {
        "colab": {
          "base_uri": "https://localhost:8080/"
        },
        "id": "-sp34AcXjBuo",
        "outputId": "0e971f8f-d07f-4d92-ed10-64f0437b7baf"
      },
      "execution_count": 6,
      "outputs": [
        {
          "output_type": "stream",
          "name": "stdout",
          "text": [
            "Digite valor da base do triângulo: 5\n",
            "Digite valor da altura do triângulo: 6\n",
            "A área do triângulo é:  15.0\n"
          ]
        }
      ]
    }
  ]
}