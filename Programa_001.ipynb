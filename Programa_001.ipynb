{
  "nbformat": 4,
  "nbformat_minor": 0,
  "metadata": {
    "colab": {
      "provenance": [],
      "authorship_tag": "ABX9TyOYYn0UBks7fwackGl74R5b",
      "include_colab_link": true
    },
    "kernelspec": {
      "name": "python3",
      "display_name": "Python 3"
    },
    "language_info": {
      "name": "python"
    }
  },
  "cells": [
    {
      "cell_type": "markdown",
      "metadata": {
        "id": "view-in-github",
        "colab_type": "text"
      },
      "source": [
        "<a href=\"https://colab.research.google.com/github/ENGRBertoli/docs/blob/main/Programa_001.ipynb\" target=\"_parent\"><img src=\"https://colab.research.google.com/assets/colab-badge.svg\" alt=\"Open In Colab\"/></a>"
      ]
    },
    {
      "cell_type": "markdown",
      "source": [
        "#Meu primeiro código"
      ],
      "metadata": {
        "id": "3q88pbK-ehM-"
      }
    },
    {
      "cell_type": "code",
      "execution_count": 2,
      "metadata": {
        "colab": {
          "base_uri": "https://localhost:8080/"
        },
        "id": "4lfzD2qFdxy5",
        "outputId": "22bb5a95-528a-484e-93fa-640042badc23"
      },
      "outputs": [
        {
          "output_type": "stream",
          "name": "stdout",
          "text": [
            "<class 'int'>\n",
            "<class 'int'>\n",
            "<class 'int'>\n",
            "5\n"
          ]
        }
      ],
      "source": [
        "#Comentário Python\n",
        "a = 2\n",
        "print(type(a))\n",
        "b = 3\n",
        "print(type(b))\n",
        "soma = a+b\n",
        "print(type(soma))\n",
        "print(soma)"
      ]
    },
    {
      "cell_type": "markdown",
      "source": [
        "#Importância dos tipos de dados"
      ],
      "metadata": {
        "id": "rx-uFOZ2gw8S"
      }
    },
    {
      "cell_type": "code",
      "source": [
        "num = int(input(\"Digite um número inteiro: \"))\n",
        "print(type(num))\n",
        "quoc = num//2\n",
        "resto = num%2\n",
        "print(\"Quociente = \", quoc)\n",
        "print(\"Resto = \", resto)\n"
      ],
      "metadata": {
        "colab": {
          "base_uri": "https://localhost:8080/"
        },
        "id": "84fjDcohgoOb",
        "outputId": "9b3d854f-fb03-4fff-f0b8-169a39d6150a"
      },
      "execution_count": 5,
      "outputs": [
        {
          "output_type": "stream",
          "name": "stdout",
          "text": [
            "Digite um número inteiro: 9\n",
            "<class 'int'>\n",
            "Quociente =  4\n",
            "Resto =  1\n"
          ]
        }
      ]
    },
    {
      "cell_type": "markdown",
      "source": [
        "#TRABALHO AVA"
      ],
      "metadata": {
        "id": "vHgSyl82ibHb"
      }
    },
    {
      "cell_type": "code",
      "source": [
        "#Cálculo da Média de Dois Valores\n",
        "Valor1 = float(input(\"Digite o primeiro valor: \"))\n",
        "Valor2 = float(input(\"Digite o segundo valor: \"))\n",
        "media = (Valor1+Valor2)/2\n",
        "print(\"A média é: \", media)"
      ],
      "metadata": {
        "colab": {
          "base_uri": "https://localhost:8080/"
        },
        "id": "4rit_Zqhihtz",
        "outputId": "3d70940b-de04-41db-f5e1-7b619eb82005"
      },
      "execution_count": 10,
      "outputs": [
        {
          "output_type": "stream",
          "name": "stdout",
          "text": [
            "Digite o primeiro valor: 6\n",
            "Digite o segundo valor: 9\n",
            "A média é:  7.5\n"
          ]
        }
      ]
    },
    {
      "cell_type": "code",
      "source": [
        "#EXEMPLO 2: NARRATIVA\n",
        "altura = float(input(\"Digite a altura: \"))\n",
        "base = float(input(\"Digite a base: \"))\n",
        "resultado = altura*base/2.0\n",
        "print(f\"A área é de {resultado}m²\")\n",
        "#para ficar no formato acima, com o valor antes da unidade de medida, com f antes das \"\" e colocar a variável entre {}"
      ],
      "metadata": {
        "colab": {
          "base_uri": "https://localhost:8080/"
        },
        "id": "Cjurny6zjnLT",
        "outputId": "94c9c94a-0899-43a1-bd4e-6ad96ff2832c"
      },
      "execution_count": 16,
      "outputs": [
        {
          "output_type": "stream",
          "name": "stdout",
          "text": [
            "Digite a altura: 2.5\n",
            "Digite a base: 9\n",
            "A área é de 11.25m²\n"
          ]
        }
      ]
    },
    {
      "cell_type": "code",
      "source": [
        "#EXEMPLO 2: PSEUDOCÓDIGO\n",
        "Início\n",
        "real: base, altura, area\n",
        "Ler: base\n",
        "Ler: altura\n",
        "Calcular area = base*altura/2.0\n",
        "Escrever area"
      ],
      "metadata": {
        "colab": {
          "base_uri": "https://localhost:8080/",
          "height": 106
        },
        "id": "KtMhpu8dmYuO",
        "outputId": "8f7921a0-b489-4d24-c1c8-ad264877ce90"
      },
      "execution_count": 18,
      "outputs": [
        {
          "output_type": "error",
          "ename": "SyntaxError",
          "evalue": "invalid syntax (<ipython-input-18-db8b6f220a5e>, line 3)",
          "traceback": [
            "\u001b[0;36m  File \u001b[0;32m\"<ipython-input-18-db8b6f220a5e>\"\u001b[0;36m, line \u001b[0;32m3\u001b[0m\n\u001b[0;31m    real: base, altura, area\u001b[0m\n\u001b[0m              ^\u001b[0m\n\u001b[0;31mSyntaxError\u001b[0m\u001b[0;31m:\u001b[0m invalid syntax\n"
          ]
        }
      ]
    }
  ]
}