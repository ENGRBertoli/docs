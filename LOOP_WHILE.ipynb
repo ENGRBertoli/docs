{
  "cells": [
    {
      "cell_type": "markdown",
      "metadata": {
        "id": "view-in-github",
        "colab_type": "text"
      },
      "source": [
        "<a href=\"https://colab.research.google.com/github/ENGRBertoli/docs/blob/main/LOOP_WHILE.ipynb\" target=\"_parent\"><img src=\"https://colab.research.google.com/assets/colab-badge.svg\" alt=\"Open In Colab\"/></a>"
      ]
    },
    {
      "cell_type": "markdown",
      "metadata": {
        "id": "kzTdiE42_5Ov"
      },
      "source": [
        "Programa que utilize estrutura de repetição while para\n",
        "perguntar ao usuário se deseja ou não realizar a soma de 2\n",
        "variáveis;"
      ]
    },
    {
      "cell_type": "code",
      "execution_count": 8,
      "metadata": {
        "colab": {
          "base_uri": "https://localhost:8080/",
          "height": 106
        },
        "id": "aJRPdKPk_2EQ",
        "outputId": "58c5feb8-1085-462d-f4b6-b8f992cac5f4"
      },
      "outputs": [
        {
          "output_type": "error",
          "ename": "IndentationError",
          "evalue": "unexpected indent (<ipython-input-8-d8f5146e359a>, line 18)",
          "traceback": [
            "\u001b[0;36m  File \u001b[0;32m\"<ipython-input-8-d8f5146e359a>\"\u001b[0;36m, line \u001b[0;32m18\u001b[0m\n\u001b[0;31m    elif resposta == 'N':\u001b[0m\n\u001b[0m    ^\u001b[0m\n\u001b[0;31mIndentationError\u001b[0m\u001b[0;31m:\u001b[0m unexpected indent\n"
          ]
        }
      ],
      "source": [
        "while True:\n",
        " #Pergunta ao usuário se deseja realizar a soma de duas variáveis\n",
        " resposta = input(\"Deseja realizar a soma de 2 variáveis? (S/N): ) \").strip().upper()\n",
        "\n",
        "#Se a resposta for \"S\", realiza a soma\n",
        "if resposta == 'S':\n",
        " #Solicita ao usuário que insira os valores das variáveis\n",
        " val1 = float(input(\"Digite o valor da primeira variável: \"))\n",
        " val2 = float(input(\"Digite o valor da segunda variável: \"))\n",
        "\n",
        "#Realiza a soma das variáveis\n",
        "soma = val1 + val2\n",
        "\n",
        "#Exibe o resultado da soma\n",
        "print(f\"A soma de {val1} e {val2} é: {soma:.2f}\\n\")\n",
        "\n",
        "#Se a resposta fo 'N', termina o loop\n",
        " elif resposta == 'N':\n",
        "  print(\"Operação finalizada.\")\n",
        "\n",
        "#Caso o usuário insira uma resposta invalida, solicita novamente\n",
        "else:\n",
        "  print(\"Resposta inválida! Por favor, digite 'S' para sim ou 'N' para n\")"
      ]
    },
    {
      "cell_type": "markdown",
      "metadata": {
        "id": "JVrw7Z2CBlvo"
      },
      "source": []
    }
  ],
  "metadata": {
    "colab": {
      "provenance": [],
      "authorship_tag": "ABX9TyPsVjk0pbb+Z8qXmcTzLL9N",
      "include_colab_link": true
    },
    "kernelspec": {
      "display_name": "Python 3",
      "name": "python3"
    },
    "language_info": {
      "name": "python"
    }
  },
  "nbformat": 4,
  "nbformat_minor": 0
}