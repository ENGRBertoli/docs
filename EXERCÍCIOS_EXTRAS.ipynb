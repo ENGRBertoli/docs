{
  "nbformat": 4,
  "nbformat_minor": 0,
  "metadata": {
    "colab": {
      "provenance": [],
      "authorship_tag": "ABX9TyPvr9YGo0kzvTD+hSVO7jSw",
      "include_colab_link": true
    },
    "kernelspec": {
      "name": "python3",
      "display_name": "Python 3"
    },
    "language_info": {
      "name": "python"
    }
  },
  "cells": [
    {
      "cell_type": "markdown",
      "metadata": {
        "id": "view-in-github",
        "colab_type": "text"
      },
      "source": [
        "<a href=\"https://colab.research.google.com/github/ENGRBertoli/docs/blob/main/EXERC%C3%8DCIOS_EXTRAS.ipynb\" target=\"_parent\"><img src=\"https://colab.research.google.com/assets/colab-badge.svg\" alt=\"Open In Colab\"/></a>"
      ]
    },
    {
      "cell_type": "markdown",
      "source": [
        "01)Elaborar um programa em python que solicite ao\n",
        "usuário um valor inteiro e em seguida informe ao usuário de o valor é múltiplo de 3 ou não.\n",
        "A seguir o pseudocódigo referente ao algoritmo do programa:"
      ],
      "metadata": {
        "id": "Pn8Q6Rh3G25U"
      }
    },
    {
      "cell_type": "code",
      "execution_count": 1,
      "metadata": {
        "colab": {
          "base_uri": "https://localhost:8080/"
        },
        "id": "lLrcao1HF4YY",
        "outputId": "295d3e4c-e649-4126-ba11-852e52041f3c"
      },
      "outputs": [
        {
          "output_type": "stream",
          "name": "stdout",
          "text": [
            "Digite um valor inteiro: 9\n",
            "O valor 9 é múltiplo de 3.\n"
          ]
        }
      ],
      "source": [
        "# Solicita ao usuário um valor inteiro\n",
        "valor = int(input(\"Digite um valor inteiro: \"))\n",
        "\n",
        "# Verifica se o valor é múltiplo de 3\n",
        "if valor % 3 == 0:\n",
        "    print(f\"O valor {valor} é múltiplo de 3.\")\n",
        "else:\n",
        "    print(f\"O valor {valor} não é múltiplo de 3.\")"
      ]
    },
    {
      "cell_type": "markdown",
      "source": [
        "02) Dadas as notas a e b de um aluno, com pesos\n",
        "respectivamente 2 e 3; pede-se elaborar um programa em Python para calcular e exibir a\n",
        "média ponderada do aluno, verificar e informar, junto ao valor da sua média, se foi aprovado\n",
        "ou não (OBS: Considere aprovado se obtiver média igual ou superior a 5)."
      ],
      "metadata": {
        "id": "39ZYnTkgHDFG"
      }
    },
    {
      "cell_type": "code",
      "source": [
        "nota1 = float(input(\"Digite a nota 1 (peso 2): \"))\n",
        "nota2 = float(input(\"Digite a nota 2 (peso 3): \"))\n",
        "\n",
        "# Define os pesos\n",
        "peso1 = 2\n",
        "peso2 = 3\n",
        "\n",
        "# Calcula a média ponderada\n",
        "media = (nota1 * peso1 + nota2 * peso2) / (peso1 + peso2)\n",
        "\n",
        "# Verifica se a média é suficiente para aprovação\n",
        "if media >= 5:\n",
        "    status = \"Aprovado\"\n",
        "else:\n",
        "    status = \"Reprovado\"\n",
        "\n",
        "# Exibe o resultado\n",
        "print(f\"A média é {media:.2f}.\")\n",
        "print(f\"O aluno foi {status}.\")"
      ],
      "metadata": {
        "colab": {
          "base_uri": "https://localhost:8080/"
        },
        "id": "E8ipJ-T_HHnr",
        "outputId": "350fd42c-b1ac-4f79-aced-3f19aca8a156"
      },
      "execution_count": 3,
      "outputs": [
        {
          "output_type": "stream",
          "name": "stdout",
          "text": [
            "Digite a nota 1 (peso 2): 5\n",
            "Digite a nota 2 (peso 3): 9\n",
            "A média é 7.40.\n",
            "O aluno foi Aprovado.\n"
          ]
        }
      ]
    },
    {
      "cell_type": "markdown",
      "source": [
        "03) Dado o algoritmo a seguir, elabore o código python do programa em questão:\n",
        "\n",
        "Leia os trÊs valores: a, b e c\n",
        "Compare os valores:\n",
        "Se a é menor ou igual a b e a é menor ou igual a c, então\n",
        "a é o menos valor\n",
        "Caso contrario, se b é menor ou igual a a e b é menor ou igual a c, então b é menor valor\n",
        "caso contrário,\n",
        "c é o menor valor\n",
        "Exiba o menor valor"
      ],
      "metadata": {
        "id": "B5wTQmFNH5lj"
      }
    },
    {
      "cell_type": "code",
      "source": [
        "#Encontrar o menor valor entre três números\n",
        "def encontrar_menor(a, b, c):\n",
        "    if a <= b and a <= c:\n",
        "        return a\n",
        "    elif b <= a and b <= c:\n",
        "        return b\n",
        "    else:\n",
        "        return c\n",
        "\n",
        "#Leitura dos valores\n",
        "a = float(input(\"Digite o valor de a: \"))\n",
        "b = float(input(\"Digite o valor de b: \"))\n",
        "c = float(input(\"Digite o valor de c: \"))\n",
        "\n",
        "#Encontrar e exibir o valor menor\n",
        "menor = encontrar_menor(a, b, c)\n",
        "print(\"O menor valor é:\", menor)"
      ],
      "metadata": {
        "colab": {
          "base_uri": "https://localhost:8080/"
        },
        "id": "Aw_PT_YgIBvf",
        "outputId": "2165ba45-2df9-4213-a062-2c4901c4074f"
      },
      "execution_count": 5,
      "outputs": [
        {
          "output_type": "stream",
          "name": "stdout",
          "text": [
            "Digite o valor de a: 18\n",
            "Digite o valor de b: 6\n",
            "Digite o valor de c: 2\n",
            "O menor valor é: 2.0\n"
          ]
        }
      ]
    }
  ]
}