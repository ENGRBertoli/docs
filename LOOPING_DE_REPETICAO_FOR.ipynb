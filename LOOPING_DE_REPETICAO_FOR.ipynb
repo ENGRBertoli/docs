{
  "nbformat": 4,
  "nbformat_minor": 0,
  "metadata": {
    "colab": {
      "provenance": [],
      "authorship_tag": "ABX9TyMTQzQl1xoJYRbuF4hGOcY0",
      "include_colab_link": true
    },
    "kernelspec": {
      "name": "python3",
      "display_name": "Python 3"
    },
    "language_info": {
      "name": "python"
    }
  },
  "cells": [
    {
      "cell_type": "markdown",
      "metadata": {
        "id": "view-in-github",
        "colab_type": "text"
      },
      "source": [
        "<a href=\"https://colab.research.google.com/github/ENGRBertoli/docs/blob/main/LOOPING_DE_REPETICAO_FOR.ipynb\" target=\"_parent\"><img src=\"https://colab.research.google.com/assets/colab-badge.svg\" alt=\"Open In Colab\"/></a>"
      ]
    },
    {
      "cell_type": "markdown",
      "source": [
        "Elaborar um programa para tabelar todos os valores dos ângulos\n",
        "de 0º a 360º com intervalo de 5º e seus respectivos senos."
      ],
      "metadata": {
        "id": "1CMFHm8ZXIFS"
      }
    },
    {
      "cell_type": "code",
      "execution_count": 4,
      "metadata": {
        "colab": {
          "base_uri": "https://localhost:8080/",
          "height": 106
        },
        "id": "UcncaOChWYJA",
        "outputId": "60f0384b-3b41-455a-e36a-98e7f26a9cb0"
      },
      "outputs": [
        {
          "output_type": "error",
          "ename": "IndentationError",
          "evalue": "expected an indented block after 'for' statement on line 7 (<ipython-input-4-c1d991569f8e>, line 10)",
          "traceback": [
            "\u001b[0;36m  File \u001b[0;32m\"<ipython-input-4-c1d991569f8e>\"\u001b[0;36m, line \u001b[0;32m10\u001b[0m\n\u001b[0;31m    radianos = math.radians (angulo)\u001b[0m\n\u001b[0m    ^\u001b[0m\n\u001b[0;31mIndentationError\u001b[0m\u001b[0;31m:\u001b[0m expected an indented block after 'for' statement on line 7\n"
          ]
        }
      ],
      "source": [
        "import math\n",
        "\n",
        "#Cabeçalho da tabela\n",
        "print(f\"{'Ângulo (graus)':<15} {'Seno':<10}\")\n",
        "\n",
        "#Gera os valores dos ângulos de 0º a 360º com intervalos de 5º\n",
        "for angulo in range(0, 361, 5):\n",
        "\n",
        "#Converte o ângulo de graus para radianos\n",
        "radianos = math.radians (angulo)\n",
        "\n",
        "#Calcula o seno do ângulo\n",
        "seno = math.sin (radianos)\n",
        "\n",
        "#exibe o ângulo e seu seno correspondente\n",
        "print(f\"{angulo:<15} {seno:10.4f}\")"
      ]
    }
  ]
}