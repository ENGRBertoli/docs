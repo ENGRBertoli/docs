{
  "nbformat": 4,
  "nbformat_minor": 0,
  "metadata": {
    "colab": {
      "provenance": [],
      "authorship_tag": "ABX9TyOm0H9oO5538XpanmrGvxSk",
      "include_colab_link": true
    },
    "kernelspec": {
      "name": "python3",
      "display_name": "Python 3"
    },
    "language_info": {
      "name": "python"
    }
  },
  "cells": [
    {
      "cell_type": "markdown",
      "metadata": {
        "id": "view-in-github",
        "colab_type": "text"
      },
      "source": [
        "<a href=\"https://colab.research.google.com/github/ENGRBertoli/docs/blob/main/SE_(IF)_E_SE_(ELSE).ipynb\" target=\"_parent\"><img src=\"https://colab.research.google.com/assets/colab-badge.svg\" alt=\"Open In Colab\"/></a>"
      ]
    },
    {
      "cell_type": "markdown",
      "source": [
        "programa para ler um número digitado pelo usuário no seu teclado e\n",
        "verificar e informar se o número digitado é par ou ímpar"
      ],
      "metadata": {
        "id": "IoChq-XkgK_C"
      }
    },
    {
      "cell_type": "code",
      "execution_count": null,
      "metadata": {
        "colab": {
          "base_uri": "https://localhost:8080/"
        },
        "id": "jI8zvGx0elxl",
        "outputId": "8f4462f7-c823-4042-cb65-907c0b501d18"
      },
      "outputs": [
        {
          "output_type": "stream",
          "name": "stdout",
          "text": [
            "Digite um número inteiro: 9\n",
            "O número 9 é ímpar.\n"
          ]
        }
      ],
      "source": [
        "#Solicita ao usuário que insira um número\n",
        "numero= int(input(\"Digite um número inteiro: \"))\n",
        "\n",
        "#Verifica se o número é par ou ímpar\n",
        "if numero %2==0:\n",
        "  print(f\"O número {numero} é par.\")\n",
        "else:\n",
        "  print(f\"O número {numero} é ímpar.\")"
      ]
    },
    {
      "cell_type": "markdown",
      "source": [
        "ler um\n",
        "número digitado pelo usuário no seu teclado e verificar e calcular raiz\n",
        "quadrada para valores Maiores ou iguais a zero; caso exibir a mensagem\n",
        "“Não existe raiz real para este número!”."
      ],
      "metadata": {
        "id": "zobDymesiEcH"
      }
    },
    {
      "cell_type": "code",
      "source": [
        "import math\n",
        "\n",
        "#Solicita ao usuário que insira um número\n",
        "numero = float(input(\"Digite um número: \"))\n",
        "\n",
        "#Verifica se o número é maior ou igual a zero\n",
        "if numero >= 0:\n",
        "  raiz_quadrada = math.sqrt(numero)\n",
        "  print(f\"A raiz quadrada de {numero} é {raiz_quadrada:.2f}.\")\n",
        "else:\n",
        "  print(\"Não existe raiz real para este número!\")\n"
      ],
      "metadata": {
        "id": "yRUhzqSggP8H",
        "colab": {
          "base_uri": "https://localhost:8080/"
        },
        "outputId": "10b25092-10f2-4e93-9c52-a70fd399b804"
      },
      "execution_count": 17,
      "outputs": [
        {
          "output_type": "stream",
          "name": "stdout",
          "text": [
            "Digite um número: -5\n",
            "Não existe raiz real para este número!\n"
          ]
        }
      ]
    },
    {
      "cell_type": "markdown",
      "source": [
        "Elaborar o Pseudocódigo, fluxograma e\n",
        "código de um programa para exibir o\n",
        "tamanho da camiseta manga curta, “PP”,\n",
        "“P”, “M”, “G”, “GG” ou “XGG”, ao solicitar\n",
        "ao usuário que ele insira os valores de\n",
        "comprimento e Largura.\n",
        "\n",
        "\n",
        "\n"
      ],
      "metadata": {
        "id": "NvXYBuH-jBP5"
      }
    },
    {
      "cell_type": "code",
      "source": [
        "#Solicita ao usuário que insira o comprimento e largura da camiseta\n",
        "comprimento =float(input(\"Digite o comprimento da camiseta em centímetros: \"))\n",
        "largura = float(input(\"Digite a largura da camiseta em centímetros: \"))\n",
        "\n",
        "#Determina o tamanbo da camiseta com base no comprimento e largura\n",
        "if comprimento <= 60 and largura <= 45:\n",
        "  tamanho = \"PP\"\n",
        "elif comprimento <= 65 and largura <= 48:\n",
        "  tamanho = \"P\"\n",
        "elif comprimento <= 70 and largura <= 51:\n",
        "  tamanho = \"M\"\n",
        "elif comprimento <= 75 and largura <= 54:\n",
        "  tamanho = \"G\"\n",
        "elif comprimento <= 80 and largura <= 57:\n",
        "  tamanho = \"GG\"\n",
        "else:\n",
        "  tamanho = \"XGG\"\n",
        "\n",
        "  #Exibe o tamanho da camiseta\n",
        "  print(f\"O tamanho da camiseta é {tamanho}.\")\n"
      ],
      "metadata": {
        "colab": {
          "base_uri": "https://localhost:8080/"
        },
        "id": "8zDjuw4RjKzn",
        "outputId": "5c018e79-28d3-446c-def6-ad34d8d449cc"
      },
      "execution_count": 26,
      "outputs": [
        {
          "name": "stdout",
          "output_type": "stream",
          "text": [
            "Digite o comprimento da camiseta em centímetros: 80\n",
            "Digite a largura da camiseta em centímetros: 57\n"
          ]
        }
      ]
    }
  ]
}