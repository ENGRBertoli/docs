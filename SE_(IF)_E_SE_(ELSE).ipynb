{
  "nbformat": 4,
  "nbformat_minor": 0,
  "metadata": {
    "colab": {
      "provenance": [],
      "authorship_tag": "ABX9TyM2WpeNWsKjk5hAduJkbA40",
      "include_colab_link": true
    },
    "kernelspec": {
      "name": "python3",
      "display_name": "Python 3"
    },
    "language_info": {
      "name": "python"
    }
  },
  "cells": [
    {
      "cell_type": "markdown",
      "metadata": {
        "id": "view-in-github",
        "colab_type": "text"
      },
      "source": [
        "<a href=\"https://colab.research.google.com/github/ENGRBertoli/docs/blob/main/SE_(IF)_E_SE_(ELSE).ipynb\" target=\"_parent\"><img src=\"https://colab.research.google.com/assets/colab-badge.svg\" alt=\"Open In Colab\"/></a>"
      ]
    },
    {
      "cell_type": "markdown",
      "source": [
        "programa para ler um número digitado pelo usuário no seu teclado e\n",
        "verificar e informar se o número digitado é par ou ímpar"
      ],
      "metadata": {
        "id": "IoChq-XkgK_C"
      }
    },
    {
      "cell_type": "code",
      "execution_count": null,
      "metadata": {
        "colab": {
          "base_uri": "https://localhost:8080/"
        },
        "id": "jI8zvGx0elxl",
        "outputId": "8f4462f7-c823-4042-cb65-907c0b501d18"
      },
      "outputs": [
        {
          "output_type": "stream",
          "name": "stdout",
          "text": [
            "Digite um número inteiro: 9\n",
            "O número 9 é ímpar.\n"
          ]
        }
      ],
      "source": [
        "#Solicita ao usuário que insira um número\n",
        "numero= int(input(\"Digite um número inteiro: \"))\n",
        "\n",
        "#Verifica se o número é par ou ímpar\n",
        "if numero %2==0:\n",
        "  print(f\"O número {numero} é par.\")\n",
        "else:\n",
        "  print(f\"O número {numero} é ímpar.\")"
      ]
    },
    {
      "cell_type": "code",
      "source": [
        "import math\n",
        "\n",
        "#Solicita ao usuário que insira um número\n",
        "numero = float(input(\"Digite um número: \"))\n",
        "\n",
        "#Verifica se o número é maior ou igual a zero\n",
        "if numero >= 0:\n",
        "  raiz_quadrada = math.sqrt(numero)\n",
        "  print(f\"A raiz quadrada de {numero} é {raiz_quadrada:.2f}.\")\n",
        "else:\n",
        "  print(\"Não exista raiz quadrada real para este número!\")\n"
      ],
      "metadata": {
        "id": "yRUhzqSggP8H",
        "colab": {
          "base_uri": "https://localhost:8080/"
        },
        "outputId": "430b19aa-ecca-4113-a3bb-16c693eac3e2"
      },
      "execution_count": 10,
      "outputs": [
        {
          "output_type": "stream",
          "name": "stdout",
          "text": [
            "Digite um número:  6\n",
            "A raiz quadrada de 6.0 é 2.45.\n"
          ]
        }
      ]
    }
  ]
}